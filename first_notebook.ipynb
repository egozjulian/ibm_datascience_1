{
 "cells": [
  {
   "attachments": {},
   "cell_type": "markdown",
   "metadata": {},
   "source": [
    "My First notebook"
   ]
  },
  {
   "attachments": {},
   "cell_type": "markdown",
   "metadata": {},
   "source": [
    "Introduction \n",
    "\n",
    "this is an introduction"
   ]
  },
  {
   "attachments": {},
   "cell_type": "markdown",
   "metadata": {
    "notebookRunGroups": {
     "groupValue": "1"
    }
   },
   "source": [
    "List of data science languages\n",
    "\n",
    "1 Python\n",
    "\n",
    "2 R\n",
    "\n",
    "3 Julia\n"
   ]
  },
  {
   "attachments": {},
   "cell_type": "markdown",
   "metadata": {},
   "source": [
    "List of libraries\n",
    "\n",
    "\n",
    "1. **NumPy:** NumPy provides support for arrays and matrices, along with mathematical functions to operate on them efficiently.\n",
    "\n",
    "2. **Pandas:** Pandas is a library for data manipulation and analysis. It offers data structures like DataFrames and Series, making it easy to work with structured data.\n",
    "\n",
    "3. **Matplotlib:** Matplotlib is a versatile library for creating static, animated, and interactive visualizations in Python.\n",
    "\n",
    "4. **Seaborn:** Seaborn is built on top of Matplotlib and offers a high-level interface for creating attractive and informative statistical graphics.\n",
    "\n",
    "5. **Scikit-Learn:** Scikit-Learn is a machine learning library that provides simple and efficient tools for data mining and data analysis. It includes a wide range of machine learning algorithms for classification, regression, clustering, and more.\n",
    "\n",
    "6. **TensorFlow:** TensorFlow is an open-source deep learning framework developed by Google. It allows you to build and train neural networks for various machine learning tasks.\n",
    "\n",
    "7. **Keras:** Keras is a high-level neural networks API that runs on top of TensorFlow, making it easier to build and experiment with deep learning models.\n",
    "\n",
    "8. **PyTorch:** PyTorch is another deep learning framework that is known for its dynamic computation graph, making it popular among researchers and developers.\n",
    "\n",
    "9. **Statsmodels:** Statsmodels is a library for estimating and interpreting statistical models. It is particularly useful for performing regression analysis and hypothesis testing.\n",
    "\n",
    "10. **SciPy:** SciPy builds on NumPy and provides additional functionality for scientific and technical computing, including optimization, signal processing, and more.\n",
    "\n",
    "11. **NLTK (Natural Language Toolkit):** NLTK is a library for working with human language data. It is widely used for natural language processing (NLP) tasks.\n",
    "\n",
    "12. **Gensim:** Gensim is a library for topic modeling and document similarity analysis. It's often used in NLP applications.\n",
    "\n",
    "13. **XGBoost:** XGBoost is an optimized gradient boosting library that is commonly used for machine learning competitions and structured data problems.\n",
    "\n",
    "14. **LightGBM:** LightGBM is another gradient boosting framework known for its speed and efficiency, especially with large datasets.\n",
    "\n",
    "15. **Dask:** Dask is a library for parallel computing and distributed computing, making it easier to scale data science workflows.\n",
    "\n",
    "16. **Plotly:** Plotly is a versatile library for creating interactive visualizations and dashboards.\n",
    "\n",
    "17. **Bokeh:** Bokeh is another library for creating interactive and interactive web-based visualizations.\n"
   ]
  },
  {
   "attachments": {},
   "cell_type": "markdown",
   "metadata": {},
   "source": [
    "List of data sciene tools\n",
    "\n",
    "\n",
    "1. **Jupyter Notebook:** An open-source web application that allows you to create and share documents containing live code, equations, visualizations, and narrative text.\n",
    "\n",
    "2. **RStudio:** An integrated development environment (IDE) for the R programming language, designed for data analysis and visualization.\n",
    "\n",
    "3. **Spyder:** An open-source IDE for scientific programming in Python, featuring a rich set of tools for data exploration and analysis.\n",
    "\n",
    "4. **Visual Studio Code (VSCode):** A highly customizable and popular code editor that supports multiple programming languages and offers extensions for data science.\n",
    "\n",
    "5. **PyCharm:** A professional Python IDE that provides specialized support for data science and machine learning projects.\n",
    "\n",
    "6. **Tableau:** A powerful data visualization tool that enables users to create interactive and shareable dashboards and reports.\n",
    "\n",
    "7. **Power BI:** A business analytics service by Microsoft that provides interactive visualizations and business intelligence capabilities.\n",
    "\n",
    "8. **RapidMiner:** An integrated platform for data science and machine learning, offering a visual workflow designer for data preprocessing and modeling.\n",
    "\n",
    "9. **KNIME:** An open-source platform for data analytics, reporting, and integration that allows users to create data science workflows using a visual interface.\n",
    "\n",
    "10. **Apache Spark:** An open-source big data processing framework that includes libraries for machine learning (MLlib) and distributed data processing.\n",
    "\n",
    "11. **Hadoop:** An open-source framework for distributed storage and processing of large datasets, commonly used in big data applications.\n",
    "\n",
    "12. **D3.js:** A JavaScript library for creating interactive data visualizations in web browsers.\n",
    "\n",
    "13. **Plotly:** A versatile library for creating interactive and static visualizations in Python, R, and other languages.\n",
    "\n",
    "14. **Excel:** A widely used spreadsheet software with built-in data analysis and visualization features.\n",
    "\n",
    "15. **SAS:** A comprehensive analytics platform that includes tools for data management, advanced analytics, and business intelligence.\n",
    "\n",
    "16. **IBM Watson Studio:** A cloud-based data science and machine learning platform that provides tools for data exploration, modeling, and deployment.\n",
    "\n",
    "17. **Alteryx:** A data preparation and analytics platform that simplifies data blending, cleansing, and advanced analytics.\n",
    "\n",
    "18. **Weka:** A collection of machine learning algorithms and data preprocessing tools with a graphical user interface.\n",
    "\n",
    "19. **Orange:** An open-source data visualization and analysis tool with a focus on machine learning and interactive data exploration.\n",
    "\n",
    "20. **RapidMiner:** An integrated platform for data science and machine learning, offering a visual workflow designer for data preprocessing and modeling.\n"
   ]
  },
  {
   "attachments": {},
   "cell_type": "markdown",
   "metadata": {},
   "source": [
    "Arithmetic examples\n",
    "\n",
    "\n",
    "## Arithmetic Expression Examples\n",
    "\n",
    "Arithmetic expressions are fundamental in mathematics and programming. They involve mathematical operations like addition, subtraction, multiplication, and division. These expressions help us solve numerical problems and perform calculations. In this section, we'll explore various examples of arithmetic expressions to demonstrate how they work.\n",
    "\n",
    "### Addition\n",
    "\n",
    "Addition is the process of combining two or more numbers to find their sum. For example:\n",
    "\n",
    "```python\n",
    "2 + 3 = 5\n",
    "\n",
    "\n",
    "### Subtration\n",
    "\n",
    "10 - 4 = 6\n",
    "\n"
   ]
  },
  {
   "cell_type": "code",
   "execution_count": 3,
   "metadata": {},
   "outputs": [
    {
     "data": {
      "text/plain": [
       "11"
      ]
     },
     "execution_count": 3,
     "metadata": {},
     "output_type": "execute_result"
    }
   ],
   "source": [
    "# multiply\n",
    "\n",
    "3 * 2 + 5"
   ]
  },
  {
   "cell_type": "code",
   "execution_count": 4,
   "metadata": {},
   "outputs": [
    {
     "name": "stdout",
     "output_type": "stream",
     "text": [
      "120 minutes is equal to 2.0 hours\n"
     ]
    }
   ],
   "source": [
    "# Input: Number of minutes\n",
    "minutes = 120\n",
    "\n",
    "# Convert minutes to hours\n",
    "hours = minutes / 60\n",
    "\n",
    "# Display the result\n",
    "print(f\"{minutes} minutes is equal to {hours} hours\")\n"
   ]
  },
  {
   "attachments": {},
   "cell_type": "markdown",
   "metadata": {},
   "source": [
    "List of objectives\n",
    "\n",
    "1. objective 1\n",
    "\n",
    "2. objective 2\n",
    "\n",
    "3. objective 3\n",
    "\n"
   ]
  },
  {
   "attachments": {},
   "cell_type": "markdown",
   "metadata": {},
   "source": [
    "Author: Julian E gomez"
   ]
  },
  {
   "cell_type": "code",
   "execution_count": null,
   "metadata": {},
   "outputs": [],
   "source": []
  }
 ],
 "metadata": {
  "kernelspec": {
   "display_name": "base",
   "language": "python",
   "name": "python3"
  },
  "language_info": {
   "codemirror_mode": {
    "name": "ipython",
    "version": 3
   },
   "file_extension": ".py",
   "mimetype": "text/x-python",
   "name": "python",
   "nbconvert_exporter": "python",
   "pygments_lexer": "ipython3",
   "version": "3.8.8"
  },
  "orig_nbformat": 4
 },
 "nbformat": 4,
 "nbformat_minor": 2
}
